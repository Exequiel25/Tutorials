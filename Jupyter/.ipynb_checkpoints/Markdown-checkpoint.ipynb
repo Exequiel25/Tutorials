{
 "cells": [
  {
   "cell_type": "markdown",
   "id": "c300d983-12d4-4e20-8d18-553273c69e2c",
   "metadata": {
    "tags": []
   },
   "source": [
    "# Markdown\n",
    "A popular and lightweight Markup language\n",
    "\n",
    "### Index\n",
    "1. <a href=\"#1.-Headings\">Headings</a>\n",
    "2. <a href=\"#2.-Blockquotes\">Blockquotes</a>\n",
    "3. <a href=\"#3.-Mathematical-Symbol\">Mathematical Symbol</a>\n",
    "4. <a href=\"#4.-Line-Break\">Line Break</a>\n",
    "5. <a href=\"#5.-Bold-and-Italic-Text\">Bold and Italic Text</a>\n",
    "6. <a href=\"#6.-Horizontal-Lines-and-Code\">Horizontal Lines and Code</a>\n",
    "7. <a href=\"#7.-Ordered-List\">Ordered List</a>\n",
    "8. <a href=\"#8.-Unordered-List\">Unordered List</a>\n",
    "9. <a href=\"#9.-Internal-and-External-Link\">Internal and External Link</a>\n",
    "10. <a href=\"#10.-Image\">Image</a>\n",
    "11. <a href=\"#11.-Video\">Video</a>"
   ]
  },
  {
   "cell_type": "markdown",
   "id": "de39283b-8d5b-4d45-82a1-9d5eae00f547",
   "metadata": {},
   "source": [
    "## 1. Headings"
   ]
  },
  {
   "cell_type": "code",
   "execution_count": null,
   "id": "6af44a97-94d4-4553-a330-d7aee1be0fc5",
   "metadata": {},
   "outputs": [],
   "source": [
    "# Heading 1, Title\n",
    "## Heading 2, Majorheading\n",
    "### Heading 3, Subheading\n",
    "#### Heading 4\n",
    "##### Heading 5\n",
    "###### Heading 6\n",
    "\n",
    "Same as HTML\n",
    "\n",
    "<h1>Heading 1, Title</h1>\n",
    "<h2>Heading 2, Majorheading</h2>\n",
    "<h3>Heading 3, Subheading</h3>\n",
    "<h4>Heading 4</h4>\n",
    "<h5>Heading 5</h5>\n",
    "<h6>Heading 6</h6>"
   ]
  },
  {
   "cell_type": "markdown",
   "id": "bc5f4a49-ccdb-4611-8e63-e8bb274f08cb",
   "metadata": {},
   "source": [
    "<a href=\"#Index\">Index</a>"
   ]
  },
  {
   "cell_type": "markdown",
   "id": "831f0b93-064f-4b0f-8275-61f10278405c",
   "metadata": {},
   "source": [
    "## 2. Blockquotes"
   ]
  },
  {
   "cell_type": "markdown",
   "id": "11761d58-4524-46aa-b6cb-52eea1477f52",
   "metadata": {},
   "source": [
    "Once Einstein said\n",
    ">The true sign of intelligence is not knowledge but imagination."
   ]
  },
  {
   "cell_type": "markdown",
   "id": "51181289-2425-4859-ba33-94e066505f0c",
   "metadata": {},
   "source": [
    "<a href=\"#Index\">Index</a>"
   ]
  },
  {
   "cell_type": "markdown",
   "id": "0345a2cf-d0e1-4401-82ae-172a97842f3d",
   "metadata": {},
   "source": [
    "## 3. Mathematical Symbol"
   ]
  },
  {
   "cell_type": "markdown",
   "id": "2666a31a-0d4d-4413-9aac-8f2b6bbb3893",
   "metadata": {},
   "source": [
    "LaTex is used. In the same line you need '$' $y=\\sqrt{Ans}$ or just a line equation with double '$': \n",
    "$$V = \\frac{3}{2}$$\n",
    "\n",
    "Or there's the posibility to start a system\n",
    "\\begin{equation}\n",
    "    \\begin{cases}\n",
    "      k_{i\\omega}/k_{p\\omega}=2\\pi\\times 10\\\\\n",
    "      \\left\\lvert\\frac{k_{p\\omega}s+k_{i\\omega}}{s}\\cdot\\frac{1}{Ts+1}\\right\\rvert_{S=\\mathrm{j}\\cdot2\\pi}=1\n",
    "    \\end{cases}\\,.\n",
    "\\end{equation}"
   ]
  },
  {
   "cell_type": "markdown",
   "id": "2ae63689-f2ea-437c-b552-bc6bcab41f27",
   "metadata": {},
   "source": [
    "<a href=\"#Index\">Index</a>"
   ]
  },
  {
   "cell_type": "markdown",
   "id": "96833e6d-1f70-44a1-9efb-abf9d829412b",
   "metadata": {},
   "source": [
    "## 4. Line Break"
   ]
  },
  {
   "cell_type": "markdown",
   "id": "d77536ad-ce45-4ca9-bc3d-8c68ad3c9a01",
   "metadata": {},
   "source": [
    "Similar to \\n when programming we use <br> and after br tags it's broke"
   ]
  },
  {
   "cell_type": "markdown",
   "id": "8a683efd-0799-44b6-b02f-bbaa98b99c66",
   "metadata": {},
   "source": [
    "<a href=\"#Index\">Index</a>"
   ]
  },
  {
   "cell_type": "markdown",
   "id": "d9b69b76-c15d-4d79-8592-5746838841b9",
   "metadata": {},
   "source": [
    "## 5. Bold and Italic Text"
   ]
  },
  {
   "cell_type": "markdown",
   "id": "0da3b009-6674-4c04-acfe-24f43f2158eb",
   "metadata": {},
   "source": [
    "**Bold Text** or __Bold Text__\n",
    "***Italic Text*** or ___Italic Text___"
   ]
  },
  {
   "cell_type": "markdown",
   "id": "049c798a-f062-4f28-8118-6188feaa81b8",
   "metadata": {},
   "source": [
    "<a href=\"#Index\">Index</a>"
   ]
  },
  {
   "cell_type": "markdown",
   "id": "45def87a-cb3e-4bc1-aa43-bbac78cfdf11",
   "metadata": {},
   "source": [
    "## 6. Horizontal Lines and Code"
   ]
  },
  {
   "cell_type": "markdown",
   "id": "191938e4-7e5c-4dc6-bf0b-f2a4b8630610",
   "metadata": {},
   "source": [
    "---\n",
    "\n",
    "More or like lines separators\n",
    "\n",
    "---\n",
    "\n",
    "This is `inline` code and\n",
    "\n",
    "```\n",
    "if{\n",
    "} else statement;\n",
    "```"
   ]
  },
  {
   "cell_type": "markdown",
   "id": "2fcb1a44-905a-4562-b577-0c4f9c6f201d",
   "metadata": {},
   "source": [
    "<a href=\"#Index\">Index</a>"
   ]
  },
  {
   "cell_type": "markdown",
   "id": "d02502ca-094d-4c52-9f3c-85aad5f4021a",
   "metadata": {},
   "source": [
    "## 7. Ordered List"
   ]
  },
  {
   "cell_type": "markdown",
   "id": "83d32bef-e136-436d-affe-840a85fff839",
   "metadata": {},
   "source": [
    "1. Read\n",
    "2. Reread\n",
    "3. Rereread\n",
    "\n",
    "Same as HTML\n",
    "\n",
    "<ol>\n",
    "    <li>Python</li>\n",
    "    <li>Java</li>\n",
    "    <li>C++</li>\n",
    "</ol>"
   ]
  },
  {
   "cell_type": "markdown",
   "id": "629e0e3f-645c-4443-94f1-627aeb6e15a1",
   "metadata": {},
   "source": [
    "<a href=\"#Index\">Index</a>"
   ]
  },
  {
   "cell_type": "markdown",
   "id": "f209ff0f-85c1-4cff-99f8-108704d3e87e",
   "metadata": {},
   "source": [
    "## 8. Unordered List"
   ]
  },
  {
   "cell_type": "markdown",
   "id": "19de2223-a462-41a9-b5af-456fd1edeb5b",
   "metadata": {},
   "source": [
    "- Read\n",
    "- Reread\n",
    "- Rereread\n",
    "\n",
    "Same as HTML\n",
    "\n",
    "<ul>\n",
    "    <li>Python</li>\n",
    "    <li>Java</li>\n",
    "    <li>C++</li>\n",
    "</ul>"
   ]
  },
  {
   "cell_type": "markdown",
   "id": "7a68ff62-3abf-43e8-afdf-bc20528b17d7",
   "metadata": {},
   "source": [
    "<a href=\"#Index\">Index</a>"
   ]
  },
  {
   "cell_type": "markdown",
   "id": "4fc2ed21-b997-404c-8ddb-04f6d6ad3a94",
   "metadata": {},
   "source": [
    "## 9. Internal and External Link"
   ]
  },
  {
   "cell_type": "markdown",
   "id": "4787b4c6-589a-4847-940d-32e864dfaf55",
   "metadata": {},
   "source": [
    "For an internal link we use HTML:\n",
    "<a href=\"#Markdown\">This goes back to Markdown</a>\n",
    "\n",
    "And for external we can paste link https://www.youtube.com/ or <a href=\"https://www.youtube.com/\">Link to YouTube</a>"
   ]
  },
  {
   "cell_type": "markdown",
   "id": "2dc96147-671e-42b9-bed1-6f3d6e2ee0b2",
   "metadata": {},
   "source": [
    "<a href=\"#Index\">Index</a>"
   ]
  },
  {
   "cell_type": "markdown",
   "id": "f23cbb48-d777-46e7-8a1e-a701b7a0e755",
   "metadata": {},
   "source": [
    "## 10. Image"
   ]
  },
  {
   "cell_type": "markdown",
   "id": "2c76e78e-89d1-4c56-8416-3dba0b19b6dd",
   "metadata": {},
   "source": [
    "![Image](./example.jpeg)\n",
    "\n",
    "or the HTML way\n",
    "\n",
    "<img src=\"./example.jpeg\" with=\"500\" heigth=\"340\"/>"
   ]
  },
  {
   "cell_type": "markdown",
   "id": "62745c12-4455-4f59-ac92-e29811de9900",
   "metadata": {},
   "source": [
    "<a href=\"#Index\">Index</a>"
   ]
  },
  {
   "cell_type": "markdown",
   "id": "5a92b4c4-0b82-4f4a-8257-b7c989badb94",
   "metadata": {},
   "source": [
    "## 11. Video"
   ]
  },
  {
   "cell_type": "markdown",
   "id": "cdb6a223-fd52-40a0-91f7-e2eaed98e625",
   "metadata": {},
   "source": [
    "# **NOTEBOOK**\n",
    "### ***CELLS***\n",
    "Cells can be dragged in the same Notebook or between Notbooks\n",
    "\n",
    "##### Code cells\n",
    "_Note_: IPython 6.3.1 has temporarily disabled type annotations. To re-enable them, dismark `c.Completer.use_jedi = True` to an `ipython_config.py` file. Then Tab can be used with suggestions:\n",
    "<video controls src=\"https://www.youtube.com/embed/MuNr0i8LgpM\" width=\"560\" height=\"340\"/>\n",
    "<video controls src=\"https://www.youtube.com/embed/TgqMK1SG7XI\" width=\"560\" height=\"340\"/>\n",
    "\n",
    "### ***SYNCHRONIZATION***\n",
    "To create synchronized views of a single Notebook:\n",
    "<video controls src=\"https://www.youtube.com/embed/SQn9aRc050\" width=\"560\" height=\"340\"/>\n",
    "\n",
    "Also you can create a new synchronized view of a cell’s output:\n",
    "<video controls src=\"https://www.youtube.com/embed/ML45HP8\" width=\"560\" height=\"340\"/>"
   ]
  },
  {
   "cell_type": "markdown",
   "id": "daf3331a-6652-4706-875a-7e251b22e554",
   "metadata": {},
   "source": [
    "<a href=\"#Index\">Index</a>"
   ]
  }
 ],
 "metadata": {
  "kernelspec": {
   "display_name": "Python 3 (ipykernel)",
   "language": "python",
   "name": "python3"
  },
  "language_info": {
   "codemirror_mode": {
    "name": "ipython",
    "version": 3
   },
   "file_extension": ".py",
   "mimetype": "text/x-python",
   "name": "python",
   "nbconvert_exporter": "python",
   "pygments_lexer": "ipython3",
   "version": "3.10.1"
  }
 },
 "nbformat": 4,
 "nbformat_minor": 5
}
