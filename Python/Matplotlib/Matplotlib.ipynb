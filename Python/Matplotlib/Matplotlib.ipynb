{
 "cells": [
  {
   "cell_type": "markdown",
   "id": "201be2d7-c216-4096-b605-556cdc76081f",
   "metadata": {},
   "source": [
    "# Matplotlib\n",
    "A comprehensive library for creating static, animated, and interactive visualizations in Python."
   ]
  },
  {
   "cell_type": "code",
   "execution_count": 1,
   "id": "7859d2f0-6018-462d-b5ec-132f315ba118",
   "metadata": {},
   "outputs": [],
   "source": [
    "import matplotlib as mpl\n",
    "import matplotlib.pyplot as plt\n",
    "import numpy as np"
   ]
  },
  {
   "cell_type": "markdown",
   "id": "379eba8e-f412-4ed0-9b03-320d6cf3a674",
   "metadata": {},
   "source": [
    "Matplotlib graphs your data on <a href=\"#Figures\">Figures</a>, each of which can contain one or more <a href=\"#Axes\">Axes</a>, an area where points can be specified in terms of x-y coordinates (or theta-r in a polar plot, x-y-z in a 3D plot, etc). The simplest way of creating a Figure with an Axes is using pyplot.subplots. We can then use Axes.plot to draw some data on the Axes:"
   ]
  },
  {
   "cell_type": "markdown",
   "id": "13638edd-7020-41a1-bbbd-2e9bfa39b2f6",
   "metadata": {},
   "source": [
    "#### Figures"
   ]
  },
  {
   "cell_type": "markdown",
   "id": "52dea3a4-88d5-4efc-baaf-ae6224d5869c",
   "metadata": {},
   "source": [
    "#### Axes"
   ]
  },
  {
   "cell_type": "code",
   "execution_count": null,
   "id": "6d7d4c7c-daee-4948-b3cb-3a67048a6acc",
   "metadata": {},
   "outputs": [],
   "source": []
  }
 ],
 "metadata": {
  "kernelspec": {
   "display_name": "Python 3 (ipykernel)",
   "language": "python",
   "name": "python3"
  },
  "language_info": {
   "codemirror_mode": {
    "name": "ipython",
    "version": 3
   },
   "file_extension": ".py",
   "mimetype": "text/x-python",
   "name": "python",
   "nbconvert_exporter": "python",
   "pygments_lexer": "ipython3",
   "version": "3.10.1"
  }
 },
 "nbformat": 4,
 "nbformat_minor": 5
}
