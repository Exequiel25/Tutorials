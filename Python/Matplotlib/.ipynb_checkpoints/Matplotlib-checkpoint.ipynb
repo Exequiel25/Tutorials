{
 "cells": [
  {
   "cell_type": "markdown",
   "id": "201be2d7-c216-4096-b605-556cdc76081f",
   "metadata": {},
   "source": [
    "# Matplotlib"
   ]
  }
 ],
 "metadata": {
  "kernelspec": {
   "display_name": "Python 3 (ipykernel)",
   "language": "python",
   "name": "python3"
  },
  "language_info": {
   "codemirror_mode": {
    "name": "ipython",
    "version": 3
   },
   "file_extension": ".py",
   "mimetype": "text/x-python",
   "name": "python",
   "nbconvert_exporter": "python",
   "pygments_lexer": "ipython3",
   "version": "3.10.1"
  }
 },
 "nbformat": 4,
 "nbformat_minor": 5
}
